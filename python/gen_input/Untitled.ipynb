{
 "cells": [
  {
   "cell_type": "code",
   "execution_count": 1,
   "id": "63d98295-5027-4292-9aa4-e7d251380af6",
   "metadata": {},
   "outputs": [],
   "source": [
    "import h5py\n",
    "import numpy as np"
   ]
  },
  {
   "cell_type": "code",
   "execution_count": 37,
   "id": "17892f83-9e52-43b3-9538-caa8ade9d25e",
   "metadata": {},
   "outputs": [],
   "source": [
    "file = h5py.File(\"../../../gfmol/data/test/h2sto.hdf5\")\n",
    "U = file[\"uchem\"][()]\n",
    "Uexch = np.copy(U)\n",
    "nao = U.shape[0]\n",
    "for i in np.arange(nao):\n",
    "    for j in np.arange(nao):\n",
    "        for k in np.arange(nao):\n",
    "            for l in np.arange(nao):\n",
    "                Uexch[i,j,k,l] = 2*U[i,k,j,l] - U[i,j,k,l]"
   ]
  },
  {
   "cell_type": "code",
   "execution_count": 46,
   "id": "b59e60eb-f84a-4751-a136-026e47d1b0b8",
   "metadata": {},
   "outputs": [
    {
     "name": "stdout",
     "output_type": "stream",
     "text": [
      "1.930762845592437\n",
      "3.8615256911848763\n"
     ]
    }
   ],
   "source": [
    "err = 0\n",
    "err_exch = 0\n",
    "for i in np.arange(nao):\n",
    "    for j in np.arange(nao):\n",
    "        for k in np.arange(nao):\n",
    "            for l in np.arange(nao):\n",
    "                err += abs(U[i,j,k,l]-U[k,j,i,l])\n",
    "                err_exch += abs(Uexch[i,j,k,l]-Uexch[l,k,i,j])\n",
    "print(err)\n",
    "print(err_exch)"
   ]
  },
  {
   "cell_type": "code",
   "execution_count": null,
   "id": "57d817db-f131-4373-a0ea-3ae44cf63efc",
   "metadata": {},
   "outputs": [],
   "source": []
  }
 ],
 "metadata": {
  "kernelspec": {
   "display_name": "Python 3 (ipykernel)",
   "language": "python",
   "name": "python3"
  },
  "language_info": {
   "codemirror_mode": {
    "name": "ipython",
    "version": 3
   },
   "file_extension": ".py",
   "mimetype": "text/x-python",
   "name": "python",
   "nbconvert_exporter": "python",
   "pygments_lexer": "ipython3",
   "version": "3.9.6"
  }
 },
 "nbformat": 4,
 "nbformat_minor": 5
}
