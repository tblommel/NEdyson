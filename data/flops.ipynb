{
 "cells": [
  {
   "cell_type": "code",
   "execution_count": 2,
   "id": "d7c83d40",
   "metadata": {},
   "outputs": [],
   "source": [
    "import numpy as np\n",
    "import matplotlib.pyplot as plt"
   ]
  },
  {
   "cell_type": "code",
   "execution_count": 7,
   "id": "08684d04",
   "metadata": {},
   "outputs": [],
   "source": [
    "Nt = 7500\n",
    "Nao = 15\n",
    "Ntau = 100\n",
    "tera = 10**12"
   ]
  },
  {
   "cell_type": "code",
   "execution_count": 25,
   "id": "fd04c391",
   "metadata": {},
   "outputs": [],
   "source": [
    "def ret_int(Nt, Nao, Ntau):\n",
    "    return 6. * 1./6 * Nt * (Nt+1) * (Nt+2) * Nao**3\n",
    "\n",
    "def tv_int_rtv(Nt, Nao, Ntau):\n",
    "    return 6. * Ntau * 1./2 * Nt * (Nt+1) * Nao**3\n",
    "\n",
    "def tv_int_tvm(Nt, Nao, Ntau):\n",
    "    return 6. * Nt * Ntau**2 * Nao**3\n",
    "\n",
    "def les_int_rl(Nt, Nao, Ntau):\n",
    "    return 6. * 1./6 * Nt * (Nt+1) * (Nt+2) * Nao**3\n",
    "\n",
    "def les_int_la(Nt, Nao, Ntau):\n",
    "    return 6. * 1./3 * Nt * (Nt+1) * (Nt+2) * Nao**3\n",
    "\n",
    "def les_int_tvvt(Nt, Nao, Ntau):\n",
    "    return 6. * Nt**2 * Ntau * Nao**3\n",
    "\n",
    "###########################################################################################\n",
    "\n",
    "def les_cont(Nt, Nao, Ntau):\n",
    "    return 6. * 1./2 * Nt * (Nt+1) * 4. * Nao**5\n",
    "\n",
    "def ret_cont(Nt, Nao, Ntau):\n",
    "    return 6. * 1./2 * Nt * (Nt+1) * 8. * Nao**5\n",
    "\n",
    "def tv_cont(Nt, Nao, Ntau):\n",
    "    return 6. * Nt * Ntau * 4. * Nao**5\n",
    "\n",
    "###########################################################################################\n",
    "\n",
    "def ret_int_tstp(T, Nao, Ntau):\n",
    "    return 6. * 1./2 * (T+1) * (T+2) * Nao**3\n",
    "\n",
    "def tv_int_rtv_tstp(T, Nao, Ntau):\n",
    "    return 6. * (Ntau+1) * (T+1) * Nao**3\n",
    "\n",
    "def les_int_rl_tstp(T, Nao, Ntau):\n",
    "    return 6. * 1./2 * (T+1) * (T+2) * Nao**3\n",
    "\n",
    "def les_int_la_tstp(T, Nao, Ntau):\n",
    "    return 6. * (T+1)**2 * Nao**3\n",
    "\n",
    "def les_int_tvvt_tstp(T, Nao, Ntau):\n",
    "    return 6. * (T+1) * (Ntau+1) * Nao**3\n",
    "\n",
    "#############################################################################################\n",
    "\n",
    "def les_cont_tstp(T, Nao, Ntau):\n",
    "    return 6. * (T+1) * 4. * Nao**5\n",
    "\n",
    "def ret_cont_tstp(T, Nao, Ntau):\n",
    "    return 6. * (T+1) * 8. * Nao**5\n",
    "\n",
    "def tv_cont_tstp(T, Nao, Ntau):\n",
    "    return 6. * (Ntau+1) * 4. * Nao**5\n"
   ]
  },
  {
   "cell_type": "code",
   "execution_count": 26,
   "id": "d11f9d14",
   "metadata": {},
   "outputs": [
    {
     "name": "stdout",
     "output_type": "stream",
     "text": [
      "Nt = 7500\n",
      "Nao = 15\n",
      "Ntau = 100\n",
      "teraflops for retarded history integrals:   1424   Nt:3  Nao:3  Ntau:0\n",
      "teraflops for mixed history integrals 1:    57     Nt:2  Nao:3  Ntau:1\n",
      "teraflops for mixed history integrals 2:    2      Nt:1  Nao:3  Ntau:2\n",
      "teraflops for lesser history integrals 1:   1424   Nt:3  Nao:3  Ntau:0\n",
      "teraflops for lesser history integrals 2:   2849   Nt:3  Nao:3  Ntau:0\n",
      "teraflops for lesser history integrals 3:   114    Nt:2  Nao:3  Ntau:1\n",
      "teraflops for retarded SE contractions:     1025   Nt:2  Nao:5  Ntau:0\n",
      "teraflops for mixed SE contractions:        14     Nt:2  Nao:5  Ntau:0\n",
      "teraflops for lesser SE contractions:       513    Nt:1  Nao:5  Ntau:1\n"
     ]
    }
   ],
   "source": [
    "print(f\"Nt = {Nt}\")\n",
    "print(f\"Nao = {Nao}\")\n",
    "print(f\"Ntau = {Ntau}\")\n",
    "print(\"teraflops for retarded history integrals:   \" + f\"{ret_int(Nt, Nao, Ntau)/tera:.0f}\" + \"   Nt:3  Nao:3  Ntau:0\")\n",
    "print(\"teraflops for mixed history integrals 1:    \" + f\"{tv_int_rtv(Nt, Nao, Ntau)/tera:.0f}\" + \"     Nt:2  Nao:3  Ntau:1\")\n",
    "print(\"teraflops for mixed history integrals 2:    \" + f\"{tv_int_tvm(Nt, Nao, Ntau)/tera:.0f}\" + \"      Nt:1  Nao:3  Ntau:2\")\n",
    "print(\"teraflops for lesser history integrals 1:   \" + f\"{les_int_rl(Nt, Nao, Ntau)/tera:.0f}\" + \"   Nt:3  Nao:3  Ntau:0\")\n",
    "print(\"teraflops for lesser history integrals 2:   \" + f\"{les_int_la(Nt, Nao, Ntau)/tera:.0f}\" + \"   Nt:3  Nao:3  Ntau:0\")\n",
    "print(\"teraflops for lesser history integrals 3:   \" + f\"{les_int_tvvt(Nt, Nao, Ntau)/tera:.0f}\" + \"    Nt:2  Nao:3  Ntau:1\")\n",
    "print(\"teraflops for retarded SE contractions:     \" + f\"{ret_cont(Nt, Nao, Ntau)/tera:.0f}\" + \"   Nt:2  Nao:5  Ntau:0\")\n",
    "print(\"teraflops for mixed SE contractions:        \" + f\"{tv_cont(Nt, Nao, Ntau)/tera:.0f}\" + \"     Nt:2  Nao:5  Ntau:0\")\n",
    "print(\"teraflops for lesser SE contractions:       \" + f\"{les_cont(Nt, Nao, Ntau)/tera:.0f}\" + \"    Nt:1  Nao:5  Ntau:1\")"
   ]
  },
  {
   "cell_type": "code",
   "execution_count": null,
   "id": "786ee10b",
   "metadata": {},
   "outputs": [],
   "source": []
  }
 ],
 "metadata": {
  "kernelspec": {
   "display_name": "Python 3",
   "language": "python",
   "name": "python3"
  },
  "language_info": {
   "codemirror_mode": {
    "name": "ipython",
    "version": 3
   },
   "file_extension": ".py",
   "mimetype": "text/x-python",
   "name": "python",
   "nbconvert_exporter": "python",
   "pygments_lexer": "ipython3",
   "version": "3.8.5"
  }
 },
 "nbformat": 4,
 "nbformat_minor": 5
}
