{
 "cells": [
  {
   "cell_type": "code",
   "execution_count": 2,
   "id": "b44a296b",
   "metadata": {},
   "outputs": [],
   "source": [
    "import numpy as np\n",
    "import matplotlib.pyplot as plt\n",
    "import h5py"
   ]
  },
  {
   "cell_type": "code",
   "execution_count": 3,
   "id": "f4eccb28",
   "metadata": {},
   "outputs": [
    {
     "name": "stdout",
     "output_type": "stream",
     "text": [
      "10.0\n"
     ]
    }
   ],
   "source": [
    "datadir = \"/pauli-storage/tblommel/NEdyson_data/He-VB2PP/equilibrium/\"\n",
    "file = h5py.File(datadir + \"nt4092_k5_dt0025_2B_tti.h5\", \"r\")\n",
    "nt = file[\"solve/params/nt\"][()] + 1\n",
    "ntau = file[\"solve/params/ntau\"][()] + 1\n",
    "nao = file[\"solve/params/nao\"][()]\n",
    "dt = file[\"solve/params/dt\"][()]\n",
    "beta = file[\"params/beta\"][()]\n",
    "G_R = np.reshape(file[\"G/GR\"][()], (nt, nao, nao))\n",
    "G_TV = np.reshape(file[\"G/GTV\"][()],(nt,ntau, nao, nao))\n",
    "print(beta)"
   ]
  },
  {
   "cell_type": "code",
   "execution_count": 4,
   "id": "7712269d",
   "metadata": {},
   "outputs": [
    {
     "data": {
      "text/plain": [
       "[<matplotlib.lines.Line2D at 0x7f46ca940940>]"
      ]
     },
     "execution_count": 4,
     "metadata": {},
     "output_type": "execute_result"
    },
    {
     "data": {
      "image/png": "[encoded data removed]",
      "text/plain": [
       "<Figure size 432x288 with 1 Axes>"
      ]
     },
     "metadata": {
      "needs_background": "light"
     },
     "output_type": "display_data"
    }
   ],
   "source": [
    "err = np.zeros(nt)\n",
    "for t in np.arange(nt):\n",
    "    err[t] = np.sum(np.abs(G_R[t] - (-G_TV[t,ntau-1] - G_TV[t,0])))\n",
    "plt.plot(np.arange(nt) * dt, err)"
   ]
  },
  {
   "cell_type": "code",
   "execution_count": null,
   "id": "5e663a24",
   "metadata": {},
   "outputs": [],
   "source": []
  }
 ],
 "metadata": {
  "kernelspec": {
   "display_name": "Python 3",
   "language": "python",
   "name": "python3"
  },
  "language_info": {
   "codemirror_mode": {
    "name": "ipython",
    "version": 3
   },
   "file_extension": ".py",
   "mimetype": "text/x-python",
   "name": "python",
   "nbconvert_exporter": "python",
   "pygments_lexer": "ipython3",
   "version": "3.8.5"
  }
 },
 "nbformat": 4,
 "nbformat_minor": 5
}
