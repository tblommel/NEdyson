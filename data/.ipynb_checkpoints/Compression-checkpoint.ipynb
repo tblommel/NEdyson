{
 "cells": [
  {
   "cell_type": "code",
   "execution_count": 2,
   "id": "44d55080",
   "metadata": {},
   "outputs": [],
   "source": [
    "import numpy as np\n",
    "import h5py"
   ]
  },
  {
   "cell_type": "code",
   "execution_count": 22,
   "id": "e0aaf0e3",
   "metadata": {},
   "outputs": [],
   "source": [
    "class Greens:\n",
    "    def read_les(self, h5file, GorSig):\n",
    "        \n",
    "\n",
    "    def read_ret(self, h5file, GorSig):\n",
    "        print(\"hello\")\n",
    "        \n",
    "    def read_tv(self, h5file, GorSig):\n",
    "        print(\"hello\")\n",
    "\n",
    "    def __init__(self, h5file, GorSig):\n",
    "        self.read_les(h5file, GorSig)\n",
    "        self.read_ret(h5file, GorSig)\n",
    "        self.read_tv(h5file, GorSig)"
   ]
  },
  {
   "cell_type": "code",
   "execution_count": 24,
   "id": "7a650ea9",
   "metadata": {},
   "outputs": [
    {
     "name": "stdout",
     "output_type": "stream",
     "text": [
      "hello\n",
      "hello\n",
      "a\n"
     ]
    }
   ],
   "source": [
    "datadir = '/pauli-storage/tblommel/NEdyson_data/He-VB2PP/equilibrium/'\n",
    "#f = h5py.File(datadir + 'nt1000_k5_dt01_HF_tti.h5', 'r')\n",
    "G = Greens(\"a\", \"G\")\n",
    "print(G.a)"
   ]
  },
  {
   "cell_type": "code",
   "execution_count": null,
   "id": "898328eb",
   "metadata": {},
   "outputs": [],
   "source": []
  }
 ],
 "metadata": {
  "kernelspec": {
   "display_name": "Python 3",
   "language": "python",
   "name": "python3"
  },
  "language_info": {
   "codemirror_mode": {
    "name": "ipython",
    "version": 3
   },
   "file_extension": ".py",
   "mimetype": "text/x-python",
   "name": "python",
   "nbconvert_exporter": "python",
   "pygments_lexer": "ipython3",
   "version": "3.8.5"
  }
 },
 "nbformat": 4,
 "nbformat_minor": 5
}
